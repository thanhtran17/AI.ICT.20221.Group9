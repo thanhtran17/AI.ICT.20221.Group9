{
 "cells": [
  {
   "attachments": {},
   "cell_type": "markdown",
   "metadata": {},
   "source": [
    "# Lane Detection with OpenCV and Python\n",
    "## AI.ICT.20221.Group9\n",
    "- Mai Anh Đức\n",
    "- Nguyễn Bá Hải\n",
    "- Đinh Ngọc Khuê\n",
    "- Trần Phúc Thành\n"
   ]
  },
  {
   "cell_type": "markdown",
   "metadata": {},
   "source": []
  },
  {
   "cell_type": "markdown",
   "metadata": {},
   "source": [
    "## Code Dependencies"
   ]
  },
  {
   "attachments": {},
   "cell_type": "markdown",
   "metadata": {},
   "source": [
    "1. [OpenCV 4.5.5](https://opencv.org/releases/): An open-source computer vision library for real-time image and video processing\n",
    "2. [Python v3.11.1](https://www.python.org/downloads/): A high-level, interpreted programming language known for its simplicity, code readability, and versatility in various applications\n",
    "3. [NumPy](http://www.numpy.org/): Numpy makes computing in Python easy. Amount other things it contains a powerful implementation of N-dimensional arrays which we will use for feeding data as input to OpenCV functions."
   ]
  },
  {
   "cell_type": "code",
   "execution_count": null,
   "metadata": {},
   "outputs": [],
   "source": [
    "# Import Required Modules\n",
    "import os\n",
    "import cv2\n",
    "import numpy as np\n",
    "import matplotlib.pyplot as plt"
   ]
  },
  {
   "cell_type": "code",
   "execution_count": null,
   "metadata": {},
   "outputs": [],
   "source": [
    "# Define the path to input images\n",
    "PATH = \"img\\input\"\n",
    "\n",
    "# Define an array that contains all input images to choose\n",
    "data_folder_path = [os.path.join(PATH, image) for image in os.listdir(PATH) if '.jpg' in image]\n",
    "data_folder_path"
   ]
  },
  {
   "cell_type": "code",
   "execution_count": null,
   "metadata": {
    "scrolled": false
   },
   "outputs": [],
   "source": [
    "# Read any image in the input images that are in data_folder_path array\n",
    "img = cv2.imread(data_folder_path[2])\n",
    "\n",
    "# Display the image\n",
    "plt.figure(figsize=(14, 14), dpi=75, facecolor='w', edgecolor='k')\n",
    "plt.imshow(cv2.cvtColor(img, cv2.COLOR_BGR2RGB))"
   ]
  },
  {
   "cell_type": "code",
   "execution_count": null,
   "metadata": {
    "scrolled": false
   },
   "outputs": [],
   "source": [
    "# Convert the image to gray image\n",
    "image_gray = cv2.cvtColor(img, cv2.COLOR_RGB2GRAY)\n",
    "\n",
    "plt.figure(figsize=(14, 14), dpi=75, facecolor='w', edgecolor='k')\n",
    "plt.imshow(image_gray, cmap='gray')"
   ]
  },
  {
   "cell_type": "code",
   "execution_count": null,
   "metadata": {},
   "outputs": [],
   "source": [
    "# Blurs an image using a Gaussian filter \n",
    "# (input, kernel size, how much to filter, empty)\n",
    "blurred_img = cv2.GaussianBlur(image_gray, (11, 11), 0)\n",
    "\n",
    "plt.figure(figsize=(14, 14), dpi=75, facecolor='w', edgecolor='k')\n",
    "plt.imshow(blurred_img, cmap='gray')"
   ]
  },
  {
   "cell_type": "code",
   "execution_count": null,
   "metadata": {},
   "outputs": [],
   "source": [
    "# Canny edge detection\n",
    "cannied_img = cv2.Canny(blurred_img, 50, 150)\n",
    "\n",
    "plt.figure(figsize=(14, 14), dpi=75, facecolor='w', edgecolor='k')\n",
    "plt.imshow(cannied_img, cmap='gray')"
   ]
  },
  {
   "cell_type": "markdown",
   "metadata": {},
   "source": [
    "## Helper Functions"
   ]
  },
  {
   "cell_type": "code",
   "execution_count": null,
   "metadata": {},
   "outputs": [],
   "source": [
    "# Grab all above functions as get_canny\n",
    "def get_canny(img):\n",
    "    \"\"\"\n",
    "    Input: take a raw image\n",
    "    Output: detect edges of img using canny\n",
    "    \"\"\"\n",
    "    # Convert the image to gray image\n",
    "    image_gray = cv2.cvtColor(img, cv2.COLOR_RGB2GRAY)\n",
    "\n",
    "    # Blurs an image using a Gaussian filter\n",
    "    image_blur = cv2.GaussianBlur(image_gray, (11, 11), 0)\n",
    "\n",
    "    # Canny edge detection\n",
    "    image_canny = cv2.Canny(image_blur, 50, 150)\n",
    "    return image_canny\n",
    "\n",
    "\n",
    "canny = get_canny(img)\n",
    "\n",
    "plt.figure(figsize=(14, 14), dpi=75, facecolor='w', edgecolor='k')\n",
    "plt.imshow(cannied_img, cmap='gray')"
   ]
  },
  {
   "cell_type": "code",
   "execution_count": null,
   "metadata": {},
   "outputs": [],
   "source": [
    "def region_of_interest(img):\n",
    "    \"\"\"\n",
    "    Only keeps the region of the image defined by a polygon\n",
    "    -----------------------------------------------------\n",
    "    Input: get a edge image, vertices as the limit of ROI\n",
    "    Output: A mask of image which only contains ROI\n",
    "    \"\"\"\n",
    "    height = img.shape[0]\n",
    "    width = img.shape[1]\n",
    "    polygon = np.array([[(width, height), (int(width / 2), int(height / 2)), (0, height)]])\n",
    "    mask = np.zeros_like(img)\n",
    "    cv2.fillPoly(mask, polygon, 255)\n",
    "    image_mask = cv2.bitwise_and(img, mask)\n",
    "    return image_mask\n",
    "\n",
    "\n",
    "image_mask = region_of_interest(cannied_img)\n",
    "\n",
    "plt.figure(figsize=(14, 14), dpi=75, facecolor='w', edgecolor='k')\n",
    "plt.imshow(image_mask, cmap='gray')"
   ]
  },
  {
   "cell_type": "code",
   "execution_count": null,
   "metadata": {},
   "outputs": [],
   "source": [
    "def draw_lines(img, lines):\n",
    "    image_line = np.zeros_like(img)\n",
    "    if lines is not None:\n",
    "        for line in lines:\n",
    "            x1, y1, x2, y2 = line.reshape(4, 1)\n",
    "            cv2.line(image_line, (int (x1) , int (y1)), (int (x2), int (y2)), (255, 0, 0), 10)\n",
    "    image_combine_line = cv2.addWeighted(img, 0.8, image_line, 1, 1)\n",
    "    return image_combine_line\n",
    "\n",
    "# Use function HoughLinesP() to detect lines in an image\n",
    "lines = cv2.HoughLinesP(image_mask, 2, np.pi/180, 50, np.array([]), minLineLength=40, maxLineGap=5)\n",
    "\n",
    "# Draw detected lines in the image\n",
    "image_line = draw_lines(img, lines)\n",
    "    \n",
    "plt.figure(figsize=(14, 14), dpi=80, facecolor='w', edgecolor='k')\n",
    "plt.imshow(cv2.cvtColor(image_line, cv2.COLOR_BGR2RGB))"
   ]
  },
  {
   "cell_type": "code",
   "execution_count": null,
   "metadata": {},
   "outputs": [],
   "source": [
    "def find_intersection_point(left, right):\n",
    "    \"\"\"\n",
    "    The intersection point between 2 vectors satisfies:\n",
    "        y = left_slope * x + left_intercept\n",
    "        y = right_slope * x + right_intercept\n",
    "    => Intersection point:\n",
    "        x = (right_intercept - left_intercept) / (left_slope - right_slope)\n",
    "        y = left_slope * x + left_intercept\n",
    "    \"\"\"\n",
    "\n",
    "    try:\n",
    "        left_slope, left_intercept = left\n",
    "    except TypeError:\n",
    "        left_slope, left_intercept = 0, 0\n",
    "\n",
    "    try:\n",
    "        right_slope, right_intercept = right\n",
    "    except TypeError:\n",
    "        right_slope, right_intercept = 0, 0\n",
    "    x = (right_intercept - left_intercept) / (left_slope - right_slope)\n",
    "    y = left_slope * x + left_intercept\n",
    "    return np.array([x, y])\n",
    "\n",
    "def make_coordinates(intersection_point, line_params):\n",
    "    try:\n",
    "        slope, intercept = line_params\n",
    "    except TypeError:\n",
    "        slope, intercept = 0, 0\n",
    "    y1 = img.shape[0]\n",
    "    y2 = int(intersection_point[1] * 100 / 90)\n",
    "    if (slope == 0):\n",
    "        x1 = img.shape[0]\n",
    "        x2 = int(intersection_point[0] * 100 / 90)\n",
    "    else:\n",
    "        x1 = int((y1 - intercept) / slope)\n",
    "        x2 = int((y2 - intercept) / slope)\n",
    "    return np.array([x1, y1, x2, y2])\n",
    "\n",
    "\n",
    "def average_slope_intercept(image, lines):\n",
    "    left_fit = []\n",
    "    right_fit = []\n",
    "\n",
    "    \"\"\"\n",
    "    Merge detected lines which on the same lane\n",
    "    And cover the full length of the lanes.\n",
    "    \"\"\"\n",
    "    for line in lines:\n",
    "        x1, y1, x2, y2 = line.reshape(4)\n",
    "        params = np.polyfit((x1, x2), (y1, y2), 1)\n",
    "        slope = params[0]\n",
    "        intercept = params[1]\n",
    "        \"\"\"\n",
    "        Line that goes through 2 points (x1, y1), (x2, y2):\n",
    "        y = slope * x + intercept\n",
    "        => If (slope < 0), this line belongs to the left border\n",
    "           Else it belongs to the right border\n",
    "        \"\"\"\n",
    "        if slope < 0:\n",
    "            left_fit.append((slope, intercept))\n",
    "        else:\n",
    "            right_fit.append((slope, intercept))\n",
    "\n",
    "    # Find the line goes through all lines\n",
    "    left_fit_avg = np.average(left_fit, axis=0)\n",
    "    right_fit_avg = np.average(right_fit, axis=0)\n",
    "\n",
    "    # Find the intersection point between left line vector and right line vector\n",
    "    intersection_point = find_intersection_point(left_fit_avg, right_fit_avg)\n",
    "\n",
    "    \"\"\"\n",
    "    Extend lines' length from bottom of the original \n",
    "    image to the 90% of intersection point's length\n",
    "    \"\"\"\n",
    "    left_line = make_coordinates(intersection_point, left_fit_avg)\n",
    "    right_line = make_coordinates(intersection_point, right_fit_avg)\n",
    "\n",
    "    return np.array([left_line, right_line])\n",
    "\n",
    "avg_line = average_slope_intercept(img, lines)\n",
    "image_line = draw_lines(img, avg_line)\n",
    "\n",
    "plt.figure(figsize=(14, 14), dpi=75, facecolor='w', edgecolor='k')\n",
    "plt.imshow(cv2.cvtColor(image_line, cv2.COLOR_BGR2RGB))"
   ]
  },
  {
   "cell_type": "code",
   "execution_count": null,
   "metadata": {},
   "outputs": [],
   "source": [
    "def draw_lane(img, lines):\n",
    "    image_lane = np.zeros_like(img)\n",
    "    points_list = np.array(avg_line, np.int32).reshape((4, 2))\n",
    "    points_list = np.array([points_list[0], points_list[1], points_list[3], points_list[2]])\n",
    "    cv2.fillPoly(image_lane, [points_list], (0, 255, 0))\n",
    "    image_combine_lane = cv2.addWeighted(image_line, 1, image_lane, 0.5, 1)\n",
    "    return image_combine_lane\n",
    "\n",
    "image_lane = draw_lane(image_line, avg_line)\n",
    "\n",
    "plt.figure(figsize=(14, 14), dpi=75, facecolor='w', edgecolor='k')\n",
    "plt.imshow(cv2.cvtColor(image_lane, cv2.COLOR_BGR2RGB))"
   ]
  },
  {
   "attachments": {},
   "cell_type": "markdown",
   "metadata": {},
   "source": [
    "# Some results\n",
    "\n",
    "*Success*\n",
    "![succeed](img/output/output_02.png)\n",
    "![succeed](img/output/output_05.png)\n",
    "![succeed](img/output/output_06.png)\n",
    "![succeed](img/output/output_07.png)\n",
    "\n",
    "\n",
    "*Fail*\n",
    "![fail](img/output/output_01.png)\n",
    "![fail](img/output/output_03.png)\n",
    "![fail](img/output/output_04.png)"
   ]
  }
 ],
 "metadata": {
  "kernelspec": {
   "display_name": "Python 3",
   "language": "python",
   "name": "python3"
  },
  "language_info": {
   "codemirror_mode": {
    "name": "ipython",
    "version": 3
   },
   "file_extension": ".py",
   "mimetype": "text/x-python",
   "name": "python",
   "nbconvert_exporter": "python",
   "pygments_lexer": "ipython3",
   "version": "3.10.7"
  },
  "vscode": {
   "interpreter": {
    "hash": "a42ccb73e7d9bfdf27e036f1d2b8b681e55fc0743cc5586bc2474d4a60f4b886"
   }
  }
 },
 "nbformat": 4,
 "nbformat_minor": 4
}
